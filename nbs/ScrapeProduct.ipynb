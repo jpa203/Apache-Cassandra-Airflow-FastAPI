{
 "cells": [
  {
   "cell_type": "code",
   "execution_count": 1,
   "id": "b4b58689",
   "metadata": {
    "scrolled": true
   },
   "outputs": [
    {
     "name": "stdout",
     "output_type": "stream",
     "text": [
      "/Users/jazzopardi/dev/ApacheCassandra/Project/venv\n"
     ]
    }
   ],
   "source": [
    "cd /Users/jazzopardi/dev/ApacheCassandra/Project/venv/"
   ]
  },
  {
   "cell_type": "code",
   "execution_count": 2,
   "id": "87ebd44a",
   "metadata": {},
   "outputs": [],
   "source": [
    "from app import scraper, worker, db, crud, models\n",
    "from cassandra.cqlengine.management import sync_table # to create or update table "
   ]
  },
  {
   "cell_type": "code",
   "execution_count": 3,
   "id": "dd73b38b",
   "metadata": {},
   "outputs": [],
   "source": [
    "session = db.get_session()\n",
    "\n",
    "sync_table(models.Product)\n",
    "sync_table(models.ProductScrapeEvent)\n"
   ]
  },
  {
   "cell_type": "code",
   "execution_count": 4,
   "id": "9f1b4377",
   "metadata": {},
   "outputs": [
    {
     "name": "stdout",
     "output_type": "stream",
     "text": [
      "B07T9NM5QR\n",
      "{'price_str': '$38.01', 'title': 'Amazon Basics Multi Purpose Adjustable Portable Tripod Stand for Workstation, Music, DJ, Projector, or Mixer, Black', 'brand': 'Amazon Basics', 'product_dimensions': '16.8\"D x 12.6\"W x 36\"H', 'style': 'Stand', 'assembly_required': 'No', 'item_weight': '10.87 Pounds', 'country_of_origin': 'China', 'asin': 'B07T9NM5QR', 'item_model_number': 'DF136', 'customer_reviews': '/* \\n    * Fix for UDP-1061. Average customer reviews has a small extra line on hover \\n    * https://omni-grok.amazon.com/xref/src/appgroup/websiteTemplates/retail/SoftlinesDetailPageAssets/udp-intl-lock/src/legacy.css?indexName=WebsiteTemplates#40\\n    */\\n    .noUnderline a:hover { \\n        text-decoration: none; \\n    }\\n\\n    .cm-cr-review-stars-spacing-big {\\n        margin-top: 1px;\\n    }\\n\\n\\n \\n   4.7  4.7 out of 5 stars    \\n    2,006 ratings   \\n                    P.when(\\'A\\', \\'ready\\').execute(function(A) {\\n                        A.declarative(\\'acrLink-click-metrics\\', \\'click\\', { \"allowLinkDefault\" : true }, function(event){\\n                            if(window.ue) {\\n                                ue.count(\"acrLinkClickCount\", (ue.count(\"acrLinkClickCount\") || 0) + 1);\\n                            }\\n                        });\\n                    });\\n                \\n\\n            P.when(\\'A\\', \\'cf\\').execute(function(A) {\\n                A.declarative(\\'acrStarsLink-click-metrics\\', \\'click\\', { \"allowLinkDefault\" : true },  function(event){\\n                    if(window.ue) {\\n                        ue.count(\"acrStarsLinkWithPopoverClickCount\", (ue.count(\"acrStarsLinkWithPopoverClickCount\") || 0) + 1);\\n                    }\\n                });\\n            });\\n        \\n\\n 4.7 out of 5 stars', 'best_sellers_rank': '#754 in Musical Instruments (See Top 100 in Musical Instruments)  #5 in DJ Racks & Stands', 'date_first_available': 'December 8, 2019', 'compatible_devices': 'Projectors, Laptops'}\n"
     ]
    },
    {
     "data": {
      "text/plain": [
       "('B07T9NM5QR', True)"
      ]
     },
     "execution_count": 4,
     "metadata": {},
     "output_type": "execute_result"
    }
   ],
   "source": [
    "asin = 'B07T9NM5QR'\n",
    "\n",
    "worker.scrape_asin(asin)"
   ]
  },
  {
   "cell_type": "code",
   "execution_count": null,
   "id": "e8873171",
   "metadata": {},
   "outputs": [],
   "source": []
  }
 ],
 "metadata": {
  "kernelspec": {
   "display_name": "Python 3 (ipykernel)",
   "language": "python",
   "name": "python3"
  },
  "language_info": {
   "codemirror_mode": {
    "name": "ipython",
    "version": 3
   },
   "file_extension": ".py",
   "mimetype": "text/x-python",
   "name": "python",
   "nbconvert_exporter": "python",
   "pygments_lexer": "ipython3",
   "version": "3.11.4"
  }
 },
 "nbformat": 4,
 "nbformat_minor": 5
}
